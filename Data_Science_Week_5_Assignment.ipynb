{
 "cells": [
  {
   "cell_type": "markdown",
   "metadata": {},
   "source": [
    "### Use Cases and Comparison of Scatter Plots, Line Plots, Bar Plots, and Pie Charts\n",
    "\n",
    "1. **Scatter Plot**:\n",
    "   - **Use Case**: Scatter plots are used to display relationships between two continuous variables. They are useful for identifying correlations, clusters, and outliers in datasets.\n",
    "   - **Best for**: Visualizing the distribution and relationships in large datasets, showing the trend between two numeric variables (e.g., height vs. weight).\n",
    "   - **Example**: Age vs. income of a population.\n",
    "   \n",
    "   \n",
    "\n",
    "2. **Line Plot**:\n",
    "   - **Use Case**: Line plots are used to display data points connected by straight lines. They are typically used for tracking changes over time or showing the relationship between two variables.\n",
    "   - **Best for**: Time series data, where changes in a variable are tracked over continuous intervals (e.g., stock prices over time).\n",
    "   - **Example**: Plotting temperature changes over time.\n",
    "   \n",
    "\n",
    "\n",
    "3. **Bar Plot**:\n",
    "   - **Use Case**: Bar plots are used to compare categories of data, showing quantities for each category. The height of each bar represents the value for that category.\n",
    "   - **Best for**: Comparing discrete categories or groups, visualizing frequencies, counts, or other statistics (e.g., sales by product).\n",
    "   - **Example**: Comparing sales across different regions.\n",
    "   \n",
    "  \n",
    "\n",
    "4. **Pie Chart**:\n",
    "   - **Use Case**: Pie charts show proportions of a whole. They are typically used to show the percentage distribution across categories.\n",
    "   - **Best for**: Visualizing part-to-whole relationships (e.g., market share of companies).\n",
    "   - **Example**: Showing the proportion of votes for different candidates in an election.\n",
    "   \n",
    "\n"
   ]
  },
  {
   "cell_type": "markdown",
   "metadata": {},
   "source": [
    "\n",
    "### Comparison:\n",
    "- **Scatter Plot vs. Line Plot**: Scatter plots are better for showing individual data points and relationships, while line plots emphasize trends or changes over time.\n",
    "\n",
    "- **Bar Plot vs. Pie Chart**: Both are used for categorical data, but bar plots are better for precise comparisons, while pie charts are better for illustrating proportions and part-to-whole relationships.\n",
    "\n",
    "- **Bar Plot vs. Line Plot**: Bar plots are good for comparing discrete categories, while line plots work best for continuous data, especially time series.\n",
    "\n"
   ]
  },
  {
   "cell_type": "markdown",
   "metadata": {},
   "source": [
    "---\n",
    "\n",
    "### Matplotlib Magic Function\n",
    "\n",
    "In Jupyter notebooks, you can use the Matplotlib magic function to display plots directly within the notebook. The magic function is:\n",
    "\n",
    "```python\n",
    "%matplotlib inline\n",
    "```\n",
    "\n",
    "This ensures that the plots are shown inline in the notebook, instead of in a separate window.\n",
    "\n"
   ]
  },
  {
   "cell_type": "markdown",
   "metadata": {},
   "source": []
  }
 ],
 "metadata": {
  "language_info": {
   "name": "python"
  }
 },
 "nbformat": 4,
 "nbformat_minor": 2
}

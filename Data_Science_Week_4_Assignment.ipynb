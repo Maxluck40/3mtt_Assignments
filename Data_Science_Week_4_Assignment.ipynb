{
 "cells": [
  {
   "cell_type": "markdown",
   "metadata": {},
   "source": [
    "Explanation: The function print_function iterates through the list ['a', 'b', 'c'], and for each element ('a', 'b', 'c'), it concatenates '1' and prints the result."
   ]
  },
  {
   "cell_type": "code",
   "execution_count": 6,
   "metadata": {},
   "outputs": [
    {
     "name": "stdout",
     "output_type": "stream",
     "text": [
      "a1\n",
      "b1\n",
      "c1\n"
     ]
    }
   ],
   "source": [
    "def print_function(A):\n",
    "    for a in A:\n",
    "         print(a + '1')\n",
    "\n",
    "print_function(['a', 'b', 'c'])\n"
   ]
  },
  {
   "cell_type": "markdown",
   "metadata": {},
   "source": [
    "-   def print_function(A):: This line defines a function named print_function that takes a single parameter A. In this case, A is expected to be a list (like ['a', 'b', 'c']).\n",
    "\n",
    "-   for a in A:: This is a for loop that iterates over each element in the list A. For each iteration, the current element is assigned to the variable a.\n",
    "\n",
    "-   print(a + '1'):: Inside the loop, the value of a (each element from the list) is concatenated with the string '1', and the result is printed. For example, when a is 'a', it will print 'a1'.\n",
    "\n",
    "Example:\n",
    "When you call print_function(['a', 'b', 'c']), it will:\n",
    "\n",
    "1.  Start with 'a', concatenate 'a' with '1', and print 'a1'.\n",
    "2.  Move to 'b', concatenate 'b' with '1', and print 'b1'.\n",
    "3.  Finally, move to 'c', concatenate 'c' with '1', and print 'c1'."
   ]
  },
  {
   "cell_type": "markdown",
   "metadata": {},
   "source": []
  }
 ],
 "metadata": {
  "kernelspec": {
   "display_name": "base",
   "language": "python",
   "name": "python3"
  },
  "language_info": {
   "codemirror_mode": {
    "name": "ipython",
    "version": 3
   },
   "file_extension": ".py",
   "mimetype": "text/x-python",
   "name": "python",
   "nbconvert_exporter": "python",
   "pygments_lexer": "ipython3",
   "version": "3.12.4"
  }
 },
 "nbformat": 4,
 "nbformat_minor": 2
}

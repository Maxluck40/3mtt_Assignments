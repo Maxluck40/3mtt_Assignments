{
 "cells": [
  {
   "cell_type": "code",
   "execution_count": 1,
   "metadata": {},
   "outputs": [
    {
     "name": "stdout",
     "output_type": "stream",
     "text": [
      "Original DataFrame:\n",
      "      Name   Age         City    Salary\n",
      "0    Alice  24.0     New York   70000.0\n",
      "1      Bob   NaN  Los Angeles   80000.0\n",
      "2  Charlie  22.0         None       NaN\n",
      "3     None  32.0      Houston  120000.0\n",
      "4      Eve  29.0      Phoenix       NaN\n",
      "\n",
      "Missing Values Count:\n",
      "Name      1\n",
      "Age       1\n",
      "City      1\n",
      "Salary    2\n",
      "dtype: int64\n",
      "\n",
      "DataFrame with Salary_Filled column:\n",
      "      Name   Age         City    Salary  Salary_Filled\n",
      "0    Alice  24.0     New York   70000.0        70000.0\n",
      "1      Bob   NaN  Los Angeles   80000.0        80000.0\n",
      "2  Charlie  22.0         None       NaN        90000.0\n",
      "3     None  32.0      Houston  120000.0       120000.0\n",
      "4      Eve  29.0      Phoenix       NaN        90000.0\n"
     ]
    }
   ],
   "source": [
    "#Import pandas library\n",
    "import pandas as pd\n",
    "import numpy as np\n",
    "\n",
    "# Create dictionary with data\n",
    "data = {\n",
    "    'Name': ['Alice', 'Bob', 'Charlie', None, 'Eve'],\n",
    "    'Age': [24, None, 22, 32, 29],\n",
    "    'City': ['New York', 'Los Angeles', None, 'Houston', 'Phoenix'],\n",
    "    'Salary': [70000, 80000, None, 120000, None]\n",
    "}\n",
    "\n",
    "# Create DataFrame from dictionary\n",
    "df = pd.DataFrame(data)\n",
    "\n",
    "# Display the DataFrame\n",
    "print(\"Original DataFrame:\")\n",
    "print(df)\n",
    "\n",
    "# Count missing values in each column\n",
    "print(\"\\nMissing Values Count:\")\n",
    "print(df.isnull().sum())\n",
    "\n",
    "# Calculate average salary\n",
    "average_salary = df['Salary'].mean(skipna=True)\n",
    "\n",
    "# Create a new column Salary_Filled with Salary values, \n",
    "# filling missing salaries with the average salary\n",
    "df['Salary_Filled'] = df['Salary'].fillna(average_salary)\n",
    "\n",
    "print(\"\\nDataFrame with Salary_Filled column:\")\n",
    "print(df)\n"
   ]
  }
 ],
 "metadata": {
  "kernelspec": {
   "display_name": "Python 3",
   "language": "python",
   "name": "python3"
  },
  "language_info": {
   "codemirror_mode": {
    "name": "ipython",
    "version": 3
   },
   "file_extension": ".py",
   "mimetype": "text/x-python",
   "name": "python",
   "nbconvert_exporter": "python",
   "pygments_lexer": "ipython3",
   "version": "3.12.4"
  }
 },
 "nbformat": 4,
 "nbformat_minor": 2
}
